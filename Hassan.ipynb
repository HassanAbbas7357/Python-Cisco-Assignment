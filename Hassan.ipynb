{
 "cells": [
  {
   "cell_type": "code",
   "execution_count": 1,
   "metadata": {},
   "outputs": [
    {
     "name": "stdout",
     "output_type": "stream",
     "text": [
      "Name is Hassan Abbas  \n",
      "  Roll NO# SMIT/19/PY/B2/06458 \t\t PY06458\n"
     ]
    }
   ],
   "source": [
    "print(\"Name is Hassan Abbas  \\n  Roll NO# SMIT/19/PY/B2/06458 \\t\\t PY06458\")"
   ]
  },
  {
   "cell_type": "code",
   "execution_count": 2,
   "metadata": {},
   "outputs": [
    {
     "name": "stdout",
     "output_type": "stream",
     "text": [
      "Twinkle, Twinkle, Littlt Star, \n",
      " \t\t How I wounder What You Are! \n",
      " \t\t\t Up Above The World SO  high, \n",
      " \t\t\t like a diamond in the sky \n",
      "Twinkle, Twinkle, Littlt Star, \n",
      " \t\t How I wounder What You Are!\n"
     ]
    }
   ],
   "source": [
    "print(\"Twinkle, Twinkle, Littlt Star, \\n \\t\\t How I wounder What You Are! \\n \\t\\t\\t Up Above The World SO  high, \\n \\t\\t\\t like a diamond in the sky \")\n",
    "print(\"Twinkle, Twinkle, Littlt Star, \\n \\t\\t How I wounder What You Are!\")"
   ]
  },
  {
   "cell_type": "code",
   "execution_count": 3,
   "metadata": {},
   "outputs": [
    {
     "name": "stdout",
     "output_type": "stream",
     "text": [
      "3.7.3 (default, Apr 24 2019, 15:29:51) [MSC v.1915 64 bit (AMD64)]\n"
     ]
    }
   ],
   "source": [
    "import sys \n",
    "print(sys.version)"
   ]
  },
  {
   "cell_type": "code",
   "execution_count": 4,
   "metadata": {},
   "outputs": [
    {
     "name": "stdout",
     "output_type": "stream",
     "text": [
      "now = 2019-10-31 15:43:24.258611\n"
     ]
    }
   ],
   "source": [
    "from datetime import datetime\n",
    "now = datetime.now()\n",
    "print(\"now =\",now)"
   ]
  },
  {
   "cell_type": "code",
   "execution_count": 5,
   "metadata": {},
   "outputs": [
    {
     "name": "stdout",
     "output_type": "stream",
     "text": [
      "Input the radius of circle :33.4\n",
      "The area of the circle with radius  33.4 is209.85838925979817\n"
     ]
    }
   ],
   "source": [
    "from math import pi\n",
    "radius = float(input(\"Input the radius of circle :\"))\n",
    "print(\"The area of the circle with radius  \"+ str(radius) + \" is\" + str(pi*radius*2))"
   ]
  },
  {
   "cell_type": "code",
   "execution_count": 6,
   "metadata": {},
   "outputs": [
    {
     "name": "stdout",
     "output_type": "stream",
     "text": [
      "Hassan Abbas\n",
      "nassaH\n",
      "sabbA\n"
     ]
    }
   ],
   "source": [
    "first,last = input(\"\").split(\" \")\n",
    "print(first[::-1])\n",
    "print(last[::-1])"
   ]
  },
  {
   "cell_type": "code",
   "execution_count": 7,
   "metadata": {},
   "outputs": [
    {
     "name": "stdout",
     "output_type": "stream",
     "text": [
      "Enter num a :56\n",
      "Enter num b :12\n",
      "68\n"
     ]
    }
   ],
   "source": [
    "def add(a,b):\n",
    "    return a+b\n",
    "a = int(input(\"Enter num a :\"))\n",
    "b = int(input(\"Enter num b :\"))\n",
    "print(add(a,b))"
   ]
  }
 ],
 "metadata": {
  "kernelspec": {
   "display_name": "Python 3",
   "language": "python",
   "name": "python3"
  },
  "language_info": {
   "codemirror_mode": {
    "name": "ipython",
    "version": 3
   },
   "file_extension": ".py",
   "mimetype": "text/x-python",
   "name": "python",
   "nbconvert_exporter": "python",
   "pygments_lexer": "ipython3",
   "version": "3.7.3"
  }
 },
 "nbformat": 4,
 "nbformat_minor": 2
}
