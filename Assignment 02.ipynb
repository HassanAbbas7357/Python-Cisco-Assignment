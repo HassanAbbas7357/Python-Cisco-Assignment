{
  "nbformat": 4,
  "nbformat_minor": 0,
  "metadata": {
    "colab": {
      "name": "Untitled3.ipynb",
      "provenance": [],
      "include_colab_link": true
    },
    "kernelspec": {
      "name": "python3",
      "display_name": "Python 3"
    }
  },
  "cells": [
    {
      "cell_type": "markdown",
      "metadata": {
        "id": "view-in-github",
        "colab_type": "text"
      },
      "source": [
        "<a href=\"https://colab.research.google.com/github/HassanAbbas7357/Python-Cisco-Assignment/blob/master/Assignment%2002.ipynb\" target=\"_parent\"><img src=\"https://colab.research.google.com/assets/colab-badge.svg\" alt=\"Open In Colab\"/></a>"
      ]
    },
    {
      "cell_type": "code",
      "metadata": {
        "id": "mWxx3fvsKDli",
        "colab_type": "code",
        "outputId": "fa6a2537-0cb3-47a8-ad86-c76efb183454",
        "colab": {
          "base_uri": "https://localhost:8080/",
          "height": 136
        }
      },
      "source": [
        "print(\"All  subjects conatining 100 marks input the obtained marks\")\n",
        "english = int(input(\"Enter marks of english\"))\n",
        "maths = int(input(\"Enter marks of maths\"))\n",
        "science = int(input(\"Enter marks of science\"))\n",
        "gk = int(input(\"Enter marks of gk\"))\n",
        "urdu = int(input(\"Enter marks of urdu\"))\n",
        "total = english+maths+science+gk+urdu\n",
        "if total >= 400:\n",
        "  print(\"Pass Grade A\")\n",
        "elif total >= 350:\n",
        "  print(\"Pass Grade B\")\n",
        "elif total >= 250:\n",
        "  print(\"Pass Grade c\")\n",
        "elif total >= 200:\n",
        "  print(\"Pass Grade D\")\n",
        "\n",
        "else:\n",
        "  print(\"Fail\")"
      ],
      "execution_count": 8,
      "outputs": [
        {
          "output_type": "stream",
          "text": [
            "All  subjects conatining 100 marks input the obtained marks\n",
            "Enter marks of english77\n",
            "Enter marks of maths77\n",
            "Enter marks of science77\n",
            "Enter marks of gk77\n",
            "Enter marks of urdu77\n",
            "Pass Grade B\n"
          ],
          "name": "stdout"
        }
      ]
    },
    {
      "cell_type": "code",
      "metadata": {
        "id": "wNl3pSWKCLsT",
        "colab_type": "code",
        "colab": {
          "base_uri": "https://localhost:8080/",
          "height": 51
        },
        "outputId": "9d881938-6f55-40eb-eabc-95f8df0d943a"
      },
      "source": [
        "a = int(input(\"Enter a num\"))\n",
        "if a % 2:\n",
        "  print(\"odd\")\n",
        "else:\n",
        "  print(\"even\")"
      ],
      "execution_count": 12,
      "outputs": [
        {
          "output_type": "stream",
          "text": [
            "Enter a num3\n",
            "odd\n"
          ],
          "name": "stdout"
        }
      ]
    },
    {
      "cell_type": "code",
      "metadata": {
        "id": "9mDWyw_rDH-2",
        "colab_type": "code",
        "colab": {
          "base_uri": "https://localhost:8080/",
          "height": 34
        },
        "outputId": "14472630-a6dd-4bb4-e0eb-734dd9beaf31"
      },
      "source": [
        "list = [1,2,3,4,5,]\n",
        "print(len(list))"
      ],
      "execution_count": 13,
      "outputs": [
        {
          "output_type": "stream",
          "text": [
            "5\n"
          ],
          "name": "stdout"
        }
      ]
    },
    {
      "cell_type": "code",
      "metadata": {
        "id": "9VlBjy3QDUBR",
        "colab_type": "code",
        "colab": {
          "base_uri": "https://localhost:8080/",
          "height": 34
        },
        "outputId": "c5b37c0a-668a-44b1-dc72-e2907cad1fc4"
      },
      "source": [
        "list = [1,2,3,4,5,]\n",
        "total = 0\n",
        "for i in list:\n",
        "  total=total+i\n",
        "print(total)\n"
      ],
      "execution_count": 19,
      "outputs": [
        {
          "output_type": "stream",
          "text": [
            "15\n"
          ],
          "name": "stdout"
        }
      ]
    },
    {
      "cell_type": "code",
      "metadata": {
        "id": "rmYm_iu-EJcg",
        "colab_type": "code",
        "colab": {
          "base_uri": "https://localhost:8080/",
          "height": 102
        },
        "outputId": "86e3b336-cd28-4f73-fa3c-297cf787f801"
      },
      "source": [
        "lst = []\n",
        "num = int(input('How many numbers: '))\n",
        "for n in range(num):\n",
        "    numbers = int(input('Enter number '))\n",
        "    lst.append(numbers)\n",
        "print(\"Maximum element in the list is :\", max(lst), \"\\nMinimum element in the list is :\", min(lst))"
      ],
      "execution_count": 21,
      "outputs": [
        {
          "output_type": "stream",
          "text": [
            "How many numbers: 2\n",
            "Enter number 1\n",
            "Enter number 2\n",
            "Maximum element in the list is : 2 \n",
            "Minimum element in the list is : 1\n"
          ],
          "name": "stdout"
        }
      ]
    },
    {
      "cell_type": "code",
      "metadata": {
        "id": "47NzXi4cEhWD",
        "colab_type": "code",
        "colab": {
          "base_uri": "https://localhost:8080/",
          "height": 85
        },
        "outputId": "670bf8d3-eab9-4c29-c046-5b70c60427ad"
      },
      "source": [
        "a = [1, 1, 2, 3, 5, 8, 13, 21, 34, 55, 89]\n",
        "for i in a:\n",
        "  if i <5:\n",
        "    print(i)\n"
      ],
      "execution_count": 23,
      "outputs": [
        {
          "output_type": "stream",
          "text": [
            "1\n",
            "1\n",
            "2\n",
            "3\n"
          ],
          "name": "stdout"
        }
      ]
    }
  ]
}